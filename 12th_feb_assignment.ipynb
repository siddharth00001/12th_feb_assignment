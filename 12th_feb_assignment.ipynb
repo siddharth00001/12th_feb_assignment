{
 "cells": [
  {
   "cell_type": "markdown",
   "id": "a205648f-b8d7-4409-a864-95d39cca862f",
   "metadata": {},
   "source": [
    "## Q1"
   ]
  },
  {
   "cell_type": "markdown",
   "id": "2a638424-0760-461d-9304-34a756e3722c",
   "metadata": {},
   "source": [
    "Exception is a class inside python that help to handle the error and it is efficient enough to handle almost all the errors we have. Syntax error is the error that doesn't conform to the rules of the programming language. While Exceptions can be handled but syntax error can't be handled."
   ]
  },
  {
   "cell_type": "code",
   "execution_count": 1,
   "id": "3f8b4c64-d589-4583-89fe-de05f5f8d1f0",
   "metadata": {},
   "outputs": [
    {
     "ename": "SyntaxError",
     "evalue": "unterminated string literal (detected at line 3) (2795549276.py, line 3)",
     "output_type": "error",
     "traceback": [
      "\u001b[0;36m  Cell \u001b[0;32mIn[1], line 3\u001b[0;36m\u001b[0m\n\u001b[0;31m    print(\"hi\u001b[0m\n\u001b[0m          ^\u001b[0m\n\u001b[0;31mSyntaxError\u001b[0m\u001b[0;31m:\u001b[0m unterminated string literal (detected at line 3)\n"
     ]
    }
   ],
   "source": [
    "## This is the example of syntax error\n",
    "try:\n",
    "    print(\"hi\n",
    "except Exception as e:\n",
    "          print(e)"
   ]
  },
  {
   "cell_type": "code",
   "execution_count": null,
   "id": "7220b6f1-0916-4765-b0e5-bd66e644360c",
   "metadata": {},
   "outputs": [],
   "source": [
    "## This is example of exception\n",
    "try:\n",
    "    print(4/0)\n",
    "except Exception as e:\n",
    "    print(e)"
   ]
  },
  {
   "cell_type": "markdown",
   "id": "a589c73d-b2b2-4a23-a3ad-3711394bbec1",
   "metadata": {},
   "source": [
    "## Q2"
   ]
  },
  {
   "cell_type": "markdown",
   "id": "3606c01d-d6f4-4115-b292-0adc2b7761f6",
   "metadata": {},
   "source": [
    "When the exception is not handled we get an ugly error on the terminal and also the others line are not executed once we encounter an error."
   ]
  },
  {
   "cell_type": "code",
   "execution_count": 2,
   "id": "d8ad02fb-b490-4705-926b-7751abffe1d3",
   "metadata": {},
   "outputs": [
    {
     "ename": "ZeroDivisionError",
     "evalue": "division by zero",
     "output_type": "error",
     "traceback": [
      "\u001b[0;31m---------------------------------------------------------------------------\u001b[0m",
      "\u001b[0;31mZeroDivisionError\u001b[0m                         Traceback (most recent call last)",
      "Cell \u001b[0;32mIn[2], line 2\u001b[0m\n\u001b[1;32m      1\u001b[0m \u001b[38;5;66;03m## Following is the example\u001b[39;00m\n\u001b[0;32m----> 2\u001b[0m \u001b[38;5;28mprint\u001b[39m(\u001b[38;5;241;43m4\u001b[39;49m\u001b[38;5;241;43m/\u001b[39;49m\u001b[38;5;241;43m0\u001b[39;49m)\n\u001b[1;32m      3\u001b[0m \u001b[38;5;28mprint\u001b[39m(\u001b[38;5;124m\"\u001b[39m\u001b[38;5;124mHello world\u001b[39m\u001b[38;5;124m\"\u001b[39m)\n",
      "\u001b[0;31mZeroDivisionError\u001b[0m: division by zero"
     ]
    }
   ],
   "source": [
    "## Following is the example\n",
    "print(4/0)\n",
    "print(\"Hello world\")"
   ]
  },
  {
   "cell_type": "code",
   "execution_count": 3,
   "id": "c14ff0f1-1489-45dd-aeeb-e72a97414019",
   "metadata": {},
   "outputs": [
    {
     "name": "stdout",
     "output_type": "stream",
     "text": [
      "division by zero\n",
      "Hello world\n"
     ]
    }
   ],
   "source": [
    "try:\n",
    "    print(4/0)\n",
    "except Exception as e:\n",
    "    print(e)\n",
    "print(\"Hello world\")"
   ]
  },
  {
   "cell_type": "markdown",
   "id": "9d10cde2-7c2d-46a6-ae6c-816887fab8b8",
   "metadata": {},
   "source": [
    "## Q3"
   ]
  },
  {
   "cell_type": "markdown",
   "id": "e30ef03f-eb68-40b4-a42b-660b3c0146de",
   "metadata": {},
   "source": [
    "try and except is used to Handle the exception at runtime"
   ]
  },
  {
   "cell_type": "code",
   "execution_count": 4,
   "id": "26e552c9-757e-4135-89d8-e536ca381294",
   "metadata": {},
   "outputs": [
    {
     "name": "stdout",
     "output_type": "stream",
     "text": [
      "[Errno 2] No such file or directory: 'lml1.txt'\n"
     ]
    }
   ],
   "source": [
    "## Following is the example\n",
    "try:\n",
    "    f= open(\"lml1.txt\",'r')\n",
    "    f.read()\n",
    "except Exception as e:\n",
    "    print(e)"
   ]
  },
  {
   "cell_type": "markdown",
   "id": "f9afe716-be72-42f6-beee-7a80821ebb23",
   "metadata": {},
   "source": [
    "## Q4"
   ]
  },
  {
   "cell_type": "code",
   "execution_count": 5,
   "id": "3703c127-346c-48bd-9147-3cd3d9caa55e",
   "metadata": {},
   "outputs": [
    {
     "name": "stdout",
     "output_type": "stream",
     "text": [
      "Try worked so else will also work\n"
     ]
    }
   ],
   "source": [
    "## try and else\n",
    "try:\n",
    "    f= open(\"lml1.txt\",'w')\n",
    "    f.write(\"hello world\")\n",
    "    f.close()\n",
    "except Exception as e:\n",
    "    print(e)\n",
    "else:\n",
    "    print('Try worked so else will also work')"
   ]
  },
  {
   "cell_type": "code",
   "execution_count": 6,
   "id": "a44380c0-7e80-400a-a6f2-e2bf96d866a7",
   "metadata": {},
   "outputs": [
    {
     "name": "stdout",
     "output_type": "stream",
     "text": [
      "[Errno 2] No such file or directory: 'lml2.txt'\n",
      "No matter what this will run\n"
     ]
    }
   ],
   "source": [
    "## finally\n",
    "try:\n",
    "    f= open(\"lml2.txt\",'r')\n",
    "    f.read()\n",
    "    f.close()\n",
    "except Exception as e:\n",
    "    print(e)\n",
    "else:\n",
    "    print('Try worked so else will also work')\n",
    "finally:\n",
    "    print(\"No matter what this will run\")"
   ]
  },
  {
   "cell_type": "code",
   "execution_count": 7,
   "id": "096c4d5f-9111-4ac0-b7d8-1695583779d3",
   "metadata": {},
   "outputs": [
    {
     "ename": "TypeError",
     "evalue": "Only integers are allowed",
     "output_type": "error",
     "traceback": [
      "\u001b[0;31m---------------------------------------------------------------------------\u001b[0m",
      "\u001b[0;31mTypeError\u001b[0m                                 Traceback (most recent call last)",
      "Cell \u001b[0;32mIn[7], line 5\u001b[0m\n\u001b[1;32m      2\u001b[0m x \u001b[38;5;241m=\u001b[39m \u001b[38;5;124m\"\u001b[39m\u001b[38;5;124mhello\u001b[39m\u001b[38;5;124m\"\u001b[39m\n\u001b[1;32m      4\u001b[0m \u001b[38;5;28;01mif\u001b[39;00m \u001b[38;5;129;01mnot\u001b[39;00m \u001b[38;5;28mtype\u001b[39m(x) \u001b[38;5;129;01mis\u001b[39;00m \u001b[38;5;28mint\u001b[39m:\n\u001b[0;32m----> 5\u001b[0m   \u001b[38;5;28;01mraise\u001b[39;00m \u001b[38;5;167;01mTypeError\u001b[39;00m(\u001b[38;5;124m\"\u001b[39m\u001b[38;5;124mOnly integers are allowed\u001b[39m\u001b[38;5;124m\"\u001b[39m)\n",
      "\u001b[0;31mTypeError\u001b[0m: Only integers are allowed"
     ]
    }
   ],
   "source": [
    "## raise can be used to raise custom error\n",
    "x = \"hello\"\n",
    "\n",
    "if not type(x) is int:\n",
    "  raise TypeError(\"Only integers are allowed\")"
   ]
  },
  {
   "cell_type": "markdown",
   "id": "c1e77f8b-9bab-475d-ba17-aaa6dc765800",
   "metadata": {},
   "source": [
    "## Q5"
   ]
  },
  {
   "cell_type": "markdown",
   "id": "ca36a48e-0c0e-452d-b6c6-96e3e9402704",
   "metadata": {},
   "source": [
    "Custom exceptions are the exceptions that we create to catch data incosistency or some other exception while creating a program which is not present in Exception class so we create our own Exception in that case"
   ]
  },
  {
   "cell_type": "code",
   "execution_count": 9,
   "id": "2051b7c6-ce46-4b8f-b93e-4e8ba945471d",
   "metadata": {},
   "outputs": [
    {
     "name": "stdin",
     "output_type": "stream",
     "text": [
      "Enter a number:  12\n"
     ]
    },
    {
     "name": "stdout",
     "output_type": "stream",
     "text": [
      "Exception Occured Age less than 18\n"
     ]
    }
   ],
   "source": [
    "x = 18\n",
    "class InvalidAgeException(Exception):\n",
    "    \"Raised when the input value is less than 18\"\n",
    "    pass\n",
    "\n",
    "try :\n",
    "    input_num = int(input(\"Enter a number: \"))\n",
    "    if input_num <x:\n",
    "        raise InvalidAgeException\n",
    "    else:\n",
    "        print(\"you are eligible to vote\")\n",
    "except InvalidAgeException:\n",
    "    print(\"Exception Occured Age less than 18\")"
   ]
  },
  {
   "cell_type": "markdown",
   "id": "01c0ffc6-0297-4f5d-911d-673680b8d91d",
   "metadata": {},
   "source": [
    "## Q6"
   ]
  },
  {
   "cell_type": "code",
   "execution_count": 10,
   "id": "ec8ab2cb-4077-4d54-bece-f02773b2a5ec",
   "metadata": {},
   "outputs": [],
   "source": [
    "class custExHandler(Exception):\n",
    "    def __init__(self,msg):\n",
    "        self.msg = msg\n",
    "def numChecker(data):\n",
    "    if type(data) == int:\n",
    "        print(\"Data is consistent\")\n",
    "    else:\n",
    "        raise custExHandler(\"Data is inconsistent\")"
   ]
  },
  {
   "cell_type": "code",
   "execution_count": 11,
   "id": "03bb1746-f929-4b03-80db-2925c6c6c07e",
   "metadata": {},
   "outputs": [
    {
     "name": "stdin",
     "output_type": "stream",
     "text": [
      "Please provide the data:  sid\n"
     ]
    },
    {
     "name": "stdout",
     "output_type": "stream",
     "text": [
      "Data is inconsistent\n"
     ]
    }
   ],
   "source": [
    "try:\n",
    "    a = input(\"Please provide the data: \")\n",
    "    numChecker(a)\n",
    "except custExHandler as e:\n",
    "    print(e)"
   ]
  },
  {
   "cell_type": "code",
   "execution_count": null,
   "id": "8b50a509-4af3-4d8a-9fd4-f88c2057d159",
   "metadata": {},
   "outputs": [],
   "source": []
  }
 ],
 "metadata": {
  "kernelspec": {
   "display_name": "Python 3 (ipykernel)",
   "language": "python",
   "name": "python3"
  },
  "language_info": {
   "codemirror_mode": {
    "name": "ipython",
    "version": 3
   },
   "file_extension": ".py",
   "mimetype": "text/x-python",
   "name": "python",
   "nbconvert_exporter": "python",
   "pygments_lexer": "ipython3",
   "version": "3.10.8"
  }
 },
 "nbformat": 4,
 "nbformat_minor": 5
}
